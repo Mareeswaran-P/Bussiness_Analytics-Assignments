{
  "nbformat": 4,
  "nbformat_minor": 0,
  "metadata": {
    "colab": {
      "provenance": []
    },
    "kernelspec": {
      "name": "python3",
      "display_name": "Python 3"
    },
    "language_info": {
      "name": "python"
    }
  },
  "cells": [
    {
      "cell_type": "markdown",
      "source": [
        "Write a login function."
      ],
      "metadata": {
        "id": "lOX8igyTUocw"
      }
    },
    {
      "cell_type": "code",
      "execution_count": 2,
      "metadata": {
        "colab": {
          "base_uri": "https://localhost:8080/"
        },
        "id": "iPbahpyfUcwv",
        "outputId": "20e554d0-d647-4103-9e3c-0c8ed07707de"
      },
      "outputs": [
        {
          "output_type": "stream",
          "name": "stdout",
          "text": [
            "Enter user maree\n",
            "Enter pwd 1093\n",
            "The credential is wrong\n"
          ]
        }
      ],
      "source": [
        "def login():\n",
        "  username=input(\"Enter user \")\n",
        "  password=input(\"Enter pwd \")\n",
        "  if(username == \"userone\" and password == \"mypassword\"):\n",
        "    print(\"Log in successfully\")\n",
        "  else:\n",
        "    print(\"The credential is wrong\")\n",
        "login()"
      ]
    },
    {
      "cell_type": "markdown",
      "source": [
        "Write a program to find even and odd numbers"
      ],
      "metadata": {
        "id": "pGFrd7NLUysw"
      }
    },
    {
      "cell_type": "code",
      "source": [
        "num = int (input(\"enter the num \"))\n",
        "if(num % 2) == 0:\n",
        "  print(\"the given num is even\")\n",
        "else:\n",
        "  print(\"the given num is odd\")\n"
      ],
      "metadata": {
        "colab": {
          "base_uri": "https://localhost:8080/"
        },
        "id": "dg_wgEpJXoXp",
        "outputId": "64d47f49-85db-43de-9ccf-ad2a1f8bbf5a"
      },
      "execution_count": 1,
      "outputs": [
        {
          "output_type": "stream",
          "name": "stdout",
          "text": [
            "enter the num3\n",
            "the given num is odd\n"
          ]
        }
      ]
    },
    {
      "cell_type": "markdown",
      "source": [
        "Create a list of fruits and iterate through them."
      ],
      "metadata": {
        "id": "ESIrzmWmX9DR"
      }
    },
    {
      "cell_type": "code",
      "source": [
        "fruits = [\"apple\", \"banana\", \"cherry\"]\n",
        "for i in fruits:\n",
        "  print (i)\n"
      ],
      "metadata": {
        "colab": {
          "base_uri": "https://localhost:8080/"
        },
        "id": "tqEfSkoWYLAa",
        "outputId": "b620d26d-006c-4bb6-ec24-7666b80fcb34"
      },
      "execution_count": 3,
      "outputs": [
        {
          "output_type": "stream",
          "name": "stdout",
          "text": [
            "apple\n",
            "banana\n",
            "cherry\n"
          ]
        }
      ]
    }
  ]
}